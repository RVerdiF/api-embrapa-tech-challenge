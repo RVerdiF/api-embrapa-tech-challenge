{
 "cells": [
  {
   "cell_type": "code",
   "execution_count": null,
   "id": "090cdfb2",
   "metadata": {},
   "outputs": [],
   "source": [
    "import requests\n",
    "import pandas as pd\n",
    "from io import StringIO\n",
    "import time\n",
    "def criar_dicionario(df):\n",
    "    \"\"\"\n",
    "    Cria um dicionário de categorias com base na coluna 'control'.\n",
    "\n",
    "    Args:\n",
    "        df (pd.DataFrame): O DataFrame contendo os dados.\n",
    "\n",
    "    Returns:\n",
    "        dict: Um dicionário onde as chaves são os prefixos (antes do '_')\n",
    "              e os valores são as categorias correspondentes.\n",
    "    \"\"\"\n",
    "    categoria_dict = {}\n",
    "    categoria_atual = None\n",
    "\n",
    "    for index, row in df.iterrows():\n",
    "        control = row['control']\n",
    "        if \"_\" not in control:\n",
    "            categoria_atual = row['produto']  # Encontrou uma nova categoria\n",
    "        else:\n",
    "            prefixo = control.split(\"_\")[0].lower()\n",
    "            categoria_dict[prefixo] = categoria_atual\n",
    "\n",
    "    return categoria_dict\n",
    "\n",
    "# Criar o dicionário de categorias\n",
    "\n",
    "\n",
    "def extrair_categorias_hierarquicas(df, categoria_dict):\n",
    "    \"\"\"\n",
    "    Extrai as categorias e subcategorias do DataFrame, utilizando um dicionário de categorias.\n",
    "\n",
    "    Args:\n",
    "        df (pd.DataFrame): O DataFrame contendo os dados.\n",
    "        categoria_dict (dict): Um dicionário mapeando prefixos de subcategorias para categorias.\n",
    "\n",
    "    Returns:\n",
    "        pd.DataFrame: O DataFrame com as colunas 'Categoria' e 'Subcategoria' adicionadas.\n",
    "    \"\"\"\n",
    "    categorias = []\n",
    "    subcategorias = []\n",
    "    categoria_atual = None\n",
    "\n",
    "    for index, row in df.iterrows():\n",
    "        control = row['control']\n",
    "        produto = row['produto']\n",
    "\n",
    "        if \"_\" not in control:\n",
    "            categoria_atual = produto\n",
    "            categoria = categoria_atual\n",
    "            subcategoria = produto\n",
    "        else:\n",
    "            prefixo = control.split(\"_\")[0].lower()\n",
    "            categoria = categoria_dict.get(prefixo, \"Outros\")\n",
    "            subcategoria = produto\n",
    "\n",
    "        categorias.append(categoria)\n",
    "        subcategorias.append(subcategoria)\n",
    "\n",
    "    # df['Categoria'] = categorias\n",
    "    # df['Subcategoria'] = subcategorias\n",
    "    return categorias, subcategorias\n"
   ]
  },
  {
   "cell_type": "code",
   "execution_count": null,
   "id": "520c29f6",
   "metadata": {},
   "outputs": [],
   "source": [
    "def _filter_comercializacao(df:pd.DataFrame) -> pd.DataFrame:\n",
    "    df = df.rename(columns={'cultivar': 'produto'})\n",
    "    df['control'] = df['control'].fillna(df['produto'])\n",
    "    for col in df.columns:\n",
    "        if col.isdigit():\n",
    "            df[col] = df[col].astype(str).replace('*','0').replace('nd','0').fillna('0').str.replace(',','.').astype(float)\n",
    "    return df\n",
    "\n",
    "def _filter_processamento(df:pd.DataFrame) -> pd.DataFrame:\n",
    "    df = df.rename(columns={'cultivar': 'produto'})\n",
    "    df['control'] = df['control'].fillna(df['produto'])\n",
    "    for col in df.columns:\n",
    "        if col.isdigit():\n",
    "            df[col] = df[col].astype(str).replace('*','0').replace('nd','0').str.replace('+','0').fillna('0').str.replace(',','.').astype(float)\n",
    "    return df"
   ]
  },
  {
   "cell_type": "code",
   "execution_count": 43,
   "id": "b1b0650b",
   "metadata": {},
   "outputs": [],
   "source": [
    "import requests\n",
    "from requests.adapters import HTTPAdapter\n",
    "from urllib3.util.retry import Retry\n",
    "import pandas as pd\n",
    "from io import BytesIO\n",
    "import io\n",
    "\n",
    "url1 = 'http://vitibrasil.cnpuv.embrapa.br/'  # Substitua pela URL real do arquivo CSV\n",
    "url2 = 'http://vitibrasil.cnpuv.embrapa.br/download/ExpSuco.csv'  # Substitua pela URL real do arquivo CSV\n",
    "\n",
    "try:\n",
    "    session = requests.Session()\n",
    "    retry_strategy = Retry(connect=3, backoff_factor=0.5)\n",
    "    adapter = HTTPAdapter(max_retries=retry_strategy)\n",
    "    session.mount(\"http://\", adapter)\n",
    "    session.mount(\"https://\", adapter)\n",
    "    response = session.get(url1, timeout=10, verify=False)\n",
    "    response.raise_for_status()\n",
    "    response = session.get(url2, timeout=10, verify=False)\n",
    "    bio = BytesIO(response.content)\n",
    "    wrapper = io.TextIOWrapper(bio, encoding='utf-8')\n",
    "    df = pd.read_csv(wrapper, sep=None, engine='python', encoding='utf-8')\n",
    "    df.columns = df.columns.str.lower()\n",
    "    # if 'comercio' in url2.lower():\n",
    "    #     df = _filter_comercializacao(df)\n",
    "    # if 'processa' in url2.lower():\n",
    "    #     df = _filter_processamento(df)\n",
    "    # if not df.empty:\n",
    "    #     categoria_dict = criar_dicionario(df)\n",
    "    #     categorias, subcategorias = extrair_categorias_hierarquicas(df,categoria_dict)\n",
    "    #     df['categoria'] = categorias\n",
    "    #     df['produto'] = subcategorias\n",
    "    #     df = df[df['categoria'] != df['produto']]\n",
    "    #     df = df.drop(columns=['id', 'control',])\n",
    "    session.close()\n",
    "except requests.exceptions.RequestException as e:\n",
    "    print(f'Ocorreu um erro durante a requisição: {e}')\n",
    "except Exception as e:\n",
    "    print(f'Ocorreu um erro inesperado: {e}')\n"
   ]
  },
  {
   "cell_type": "code",
   "execution_count": 44,
   "id": "da76e346",
   "metadata": {},
   "outputs": [
    {
     "data": {
      "application/vnd.microsoft.datawrangler.viewer.v0+json": {
       "columns": [
        {
         "name": "index",
         "rawType": "int64",
         "type": "integer"
        },
        {
         "name": "id",
         "rawType": "int64",
         "type": "integer"
        },
        {
         "name": "país",
         "rawType": "object",
         "type": "string"
        },
        {
         "name": "1970",
         "rawType": "int64",
         "type": "integer"
        },
        {
         "name": "1970.1",
         "rawType": "int64",
         "type": "integer"
        },
        {
         "name": "1971",
         "rawType": "int64",
         "type": "integer"
        },
        {
         "name": "1971.1",
         "rawType": "int64",
         "type": "integer"
        },
        {
         "name": "1972",
         "rawType": "int64",
         "type": "integer"
        },
        {
         "name": "1972.1",
         "rawType": "int64",
         "type": "integer"
        },
        {
         "name": "1973",
         "rawType": "int64",
         "type": "integer"
        },
        {
         "name": "1973.1",
         "rawType": "int64",
         "type": "integer"
        },
        {
         "name": "1974",
         "rawType": "int64",
         "type": "integer"
        },
        {
         "name": "1974.1",
         "rawType": "int64",
         "type": "integer"
        },
        {
         "name": "1975",
         "rawType": "int64",
         "type": "integer"
        },
        {
         "name": "1975.1",
         "rawType": "int64",
         "type": "integer"
        },
        {
         "name": "1976",
         "rawType": "int64",
         "type": "integer"
        },
        {
         "name": "1976.1",
         "rawType": "int64",
         "type": "integer"
        },
        {
         "name": "1977",
         "rawType": "int64",
         "type": "integer"
        },
        {
         "name": "1977.1",
         "rawType": "int64",
         "type": "integer"
        },
        {
         "name": "1978",
         "rawType": "int64",
         "type": "integer"
        },
        {
         "name": "1978.1",
         "rawType": "int64",
         "type": "integer"
        },
        {
         "name": "1979",
         "rawType": "int64",
         "type": "integer"
        },
        {
         "name": "1979.1",
         "rawType": "int64",
         "type": "integer"
        },
        {
         "name": "1980",
         "rawType": "int64",
         "type": "integer"
        },
        {
         "name": "1980.1",
         "rawType": "int64",
         "type": "integer"
        },
        {
         "name": "1981",
         "rawType": "int64",
         "type": "integer"
        },
        {
         "name": "1981.1",
         "rawType": "int64",
         "type": "integer"
        },
        {
         "name": "1982",
         "rawType": "int64",
         "type": "integer"
        },
        {
         "name": "1982.1",
         "rawType": "int64",
         "type": "integer"
        },
        {
         "name": "1983",
         "rawType": "int64",
         "type": "integer"
        },
        {
         "name": "1983.1",
         "rawType": "int64",
         "type": "integer"
        },
        {
         "name": "1984",
         "rawType": "int64",
         "type": "integer"
        },
        {
         "name": "1984.1",
         "rawType": "int64",
         "type": "integer"
        },
        {
         "name": "1985",
         "rawType": "int64",
         "type": "integer"
        },
        {
         "name": "1985.1",
         "rawType": "int64",
         "type": "integer"
        },
        {
         "name": "1986",
         "rawType": "int64",
         "type": "integer"
        },
        {
         "name": "1986.1",
         "rawType": "int64",
         "type": "integer"
        },
        {
         "name": "1987",
         "rawType": "int64",
         "type": "integer"
        },
        {
         "name": "1987.1",
         "rawType": "int64",
         "type": "integer"
        },
        {
         "name": "1988",
         "rawType": "int64",
         "type": "integer"
        },
        {
         "name": "1988.1",
         "rawType": "int64",
         "type": "integer"
        },
        {
         "name": "1989",
         "rawType": "int64",
         "type": "integer"
        },
        {
         "name": "1989.1",
         "rawType": "int64",
         "type": "integer"
        },
        {
         "name": "1990",
         "rawType": "int64",
         "type": "integer"
        },
        {
         "name": "1990.1",
         "rawType": "int64",
         "type": "integer"
        },
        {
         "name": "1991",
         "rawType": "int64",
         "type": "integer"
        },
        {
         "name": "1991.1",
         "rawType": "int64",
         "type": "integer"
        },
        {
         "name": "1992",
         "rawType": "int64",
         "type": "integer"
        },
        {
         "name": "1992.1",
         "rawType": "int64",
         "type": "integer"
        },
        {
         "name": "1993",
         "rawType": "int64",
         "type": "integer"
        },
        {
         "name": "1993.1",
         "rawType": "int64",
         "type": "integer"
        },
        {
         "name": "1994",
         "rawType": "int64",
         "type": "integer"
        },
        {
         "name": "1994.1",
         "rawType": "int64",
         "type": "integer"
        },
        {
         "name": "1995",
         "rawType": "int64",
         "type": "integer"
        },
        {
         "name": "1995.1",
         "rawType": "int64",
         "type": "integer"
        },
        {
         "name": "1996",
         "rawType": "int64",
         "type": "integer"
        },
        {
         "name": "1996.1",
         "rawType": "int64",
         "type": "integer"
        },
        {
         "name": "1997",
         "rawType": "int64",
         "type": "integer"
        },
        {
         "name": "1997.1",
         "rawType": "int64",
         "type": "integer"
        },
        {
         "name": "1998",
         "rawType": "int64",
         "type": "integer"
        },
        {
         "name": "1998.1",
         "rawType": "int64",
         "type": "integer"
        },
        {
         "name": "1999",
         "rawType": "int64",
         "type": "integer"
        },
        {
         "name": "1999.1",
         "rawType": "int64",
         "type": "integer"
        },
        {
         "name": "2000",
         "rawType": "int64",
         "type": "integer"
        },
        {
         "name": "2000.1",
         "rawType": "int64",
         "type": "integer"
        },
        {
         "name": "2001",
         "rawType": "int64",
         "type": "integer"
        },
        {
         "name": "2001.1",
         "rawType": "int64",
         "type": "integer"
        },
        {
         "name": "2002",
         "rawType": "int64",
         "type": "integer"
        },
        {
         "name": "2002.1",
         "rawType": "int64",
         "type": "integer"
        },
        {
         "name": "2003",
         "rawType": "int64",
         "type": "integer"
        },
        {
         "name": "2003.1",
         "rawType": "int64",
         "type": "integer"
        },
        {
         "name": "2004",
         "rawType": "int64",
         "type": "integer"
        },
        {
         "name": "2004.1",
         "rawType": "int64",
         "type": "integer"
        },
        {
         "name": "2005",
         "rawType": "int64",
         "type": "integer"
        },
        {
         "name": "2005.1",
         "rawType": "int64",
         "type": "integer"
        },
        {
         "name": "2006",
         "rawType": "int64",
         "type": "integer"
        },
        {
         "name": "2006.1",
         "rawType": "int64",
         "type": "integer"
        },
        {
         "name": "2007",
         "rawType": "int64",
         "type": "integer"
        },
        {
         "name": "2007.1",
         "rawType": "int64",
         "type": "integer"
        },
        {
         "name": "2008",
         "rawType": "int64",
         "type": "integer"
        },
        {
         "name": "2008.1",
         "rawType": "int64",
         "type": "integer"
        },
        {
         "name": "2009",
         "rawType": "int64",
         "type": "integer"
        },
        {
         "name": "2009.1",
         "rawType": "int64",
         "type": "integer"
        },
        {
         "name": "2010",
         "rawType": "int64",
         "type": "integer"
        },
        {
         "name": "2010.1",
         "rawType": "int64",
         "type": "integer"
        },
        {
         "name": "2011",
         "rawType": "int64",
         "type": "integer"
        },
        {
         "name": "2011.1",
         "rawType": "int64",
         "type": "integer"
        },
        {
         "name": "2012",
         "rawType": "int64",
         "type": "integer"
        },
        {
         "name": "2012.1",
         "rawType": "int64",
         "type": "integer"
        },
        {
         "name": "2013",
         "rawType": "int64",
         "type": "integer"
        },
        {
         "name": "2013.1",
         "rawType": "int64",
         "type": "integer"
        },
        {
         "name": "2014",
         "rawType": "int64",
         "type": "integer"
        },
        {
         "name": "2014.1",
         "rawType": "int64",
         "type": "integer"
        },
        {
         "name": "2015",
         "rawType": "int64",
         "type": "integer"
        },
        {
         "name": "2015.1",
         "rawType": "int64",
         "type": "integer"
        },
        {
         "name": "2016",
         "rawType": "int64",
         "type": "integer"
        },
        {
         "name": "2016.1",
         "rawType": "int64",
         "type": "integer"
        },
        {
         "name": "2017",
         "rawType": "int64",
         "type": "integer"
        },
        {
         "name": "2017.1",
         "rawType": "int64",
         "type": "integer"
        },
        {
         "name": "2018",
         "rawType": "int64",
         "type": "integer"
        },
        {
         "name": "2018.1",
         "rawType": "int64",
         "type": "integer"
        },
        {
         "name": "2019",
         "rawType": "int64",
         "type": "integer"
        },
        {
         "name": "2019.1",
         "rawType": "int64",
         "type": "integer"
        },
        {
         "name": "2020",
         "rawType": "int64",
         "type": "integer"
        },
        {
         "name": "2020.1",
         "rawType": "int64",
         "type": "integer"
        },
        {
         "name": "2021",
         "rawType": "int64",
         "type": "integer"
        },
        {
         "name": "2021.1",
         "rawType": "int64",
         "type": "integer"
        },
        {
         "name": "2022",
         "rawType": "int64",
         "type": "integer"
        },
        {
         "name": "2022.1",
         "rawType": "int64",
         "type": "integer"
        },
        {
         "name": "2023",
         "rawType": "int64",
         "type": "integer"
        },
        {
         "name": "2023.1",
         "rawType": "int64",
         "type": "integer"
        },
        {
         "name": "2024",
         "rawType": "int64",
         "type": "integer"
        },
        {
         "name": "2024.1",
         "rawType": "int64",
         "type": "integer"
        }
       ],
       "conversionMethod": "pd.DataFrame",
       "ref": "1e9167bd-fbb5-4bf6-90dd-bc2faeaea66a",
       "rows": [
        [
         "0",
         "1",
         "África do Sul",
         "0",
         "0",
         "0",
         "0",
         "0",
         "0",
         "0",
         "0",
         "0",
         "0",
         "0",
         "0",
         "0",
         "0",
         "0",
         "0",
         "0",
         "0",
         "0",
         "0",
         "0",
         "0",
         "0",
         "0",
         "0",
         "0",
         "0",
         "0",
         "0",
         "0",
         "0",
         "0",
         "0",
         "0",
         "0",
         "0",
         "0",
         "0",
         "0",
         "0",
         "0",
         "0",
         "0",
         "0",
         "0",
         "0",
         "0",
         "0",
         "0",
         "0",
         "0",
         "0",
         "18550",
         "25970",
         "0",
         "0",
         "0",
         "0",
         "0",
         "0",
         "0",
         "0",
         "0",
         "0",
         "0",
         "0",
         "0",
         "0",
         "0",
         "0",
         "0",
         "0",
         "0",
         "0",
         "0",
         "0",
         "0",
         "0",
         "0",
         "0",
         "0",
         "0",
         "0",
         "0",
         "3739",
         "6324",
         "0",
         "0",
         "0",
         "0",
         "0",
         "0",
         "0",
         "0",
         "0",
         "0",
         "0",
         "0",
         "0",
         "0",
         "0",
         "0",
         "0",
         "0",
         "34344",
         "49753",
         "0",
         "0",
         "0",
         "0"
        ],
        [
         "1",
         "2",
         "Alemanha, República Democrática da",
         "0",
         "0",
         "0",
         "0",
         "9962",
         "6514",
         "238418",
         "160979",
         "0",
         "0",
         "86",
         "68",
         "0",
         "0",
         "200000",
         "136000",
         "100000",
         "81000",
         "100265",
         "108718",
         "72875",
         "92915",
         "352920",
         "436952",
         "83200",
         "91520",
         "149990",
         "176238",
         "300052",
         "277596",
         "150000",
         "137250",
         "0",
         "0",
         "150000",
         "148500",
         "0",
         "0",
         "150000",
         "199500",
         "0",
         "0",
         "0",
         "0",
         "36400",
         "48230",
         "90480",
         "124040",
         "127320",
         "199639",
         "182000",
         "322140",
         "0",
         "0",
         "0",
         "0",
         "227370",
         "414144",
         "454740",
         "843369",
         "367290",
         "666020",
         "507210",
         "824479",
         "0",
         "0",
         "0",
         "0",
         "0",
         "0",
         "0",
         "0",
         "0",
         "0",
         "0",
         "0",
         "0",
         "0",
         "0",
         "0",
         "0",
         "0",
         "0",
         "0",
         "1",
         "1",
         "4",
         "5",
         "38480",
         "23268",
         "6",
         "6",
         "0",
         "0",
         "0",
         "0",
         "96",
         "91",
         "12",
         "24",
         "86",
         "44",
         "13",
         "4",
         "5",
         "24",
         "33",
         "39",
         "6",
         "17"
        ],
        [
         "2",
         "3",
         "Angola",
         "0",
         "0",
         "0",
         "0",
         "0",
         "0",
         "0",
         "0",
         "0",
         "0",
         "0",
         "0",
         "0",
         "0",
         "0",
         "0",
         "0",
         "0",
         "756",
         "920",
         "0",
         "0",
         "0",
         "0",
         "0",
         "0",
         "0",
         "0",
         "0",
         "0",
         "1574",
         "2822",
         "10278",
         "11423",
         "7208",
         "7022",
         "10642",
         "17254",
         "7080",
         "24011",
         "0",
         "0",
         "600",
         "1214",
         "360",
         "1229",
         "18",
         "61",
         "0",
         "0",
         "0",
         "0",
         "0",
         "0",
         "36",
         "78",
         "1199",
         "3854",
         "288",
         "959",
         "156",
         "164",
         "29",
         "79",
         "0",
         "0",
         "4497",
         "3488",
         "15534",
         "9495",
         "194838",
         "130487",
         "7362",
         "4593",
         "43395",
         "23740",
         "63263",
         "61246",
         "237494",
         "191270",
         "6413",
         "8108",
         "0",
         "0",
         "0",
         "0",
         "5001",
         "21599",
         "1200",
         "2880",
         "1378",
         "1739",
         "5961",
         "10771",
         "160",
         "1185",
         "1895",
         "1553",
         "0",
         "0",
         "17766",
         "21627",
         "6073",
         "5915",
         "86536",
         "91839",
         "55683",
         "68724",
         "4974",
         "9112"
        ],
        [
         "3",
         "4",
         "Antígua e Barbuda",
         "0",
         "0",
         "0",
         "0",
         "0",
         "0",
         "0",
         "0",
         "0",
         "0",
         "0",
         "0",
         "0",
         "0",
         "0",
         "0",
         "0",
         "0",
         "0",
         "0",
         "0",
         "0",
         "0",
         "0",
         "0",
         "0",
         "0",
         "0",
         "0",
         "0",
         "0",
         "0",
         "0",
         "0",
         "0",
         "0",
         "0",
         "0",
         "0",
         "0",
         "0",
         "0",
         "0",
         "0",
         "0",
         "0",
         "0",
         "0",
         "0",
         "0",
         "0",
         "0",
         "0",
         "0",
         "0",
         "0",
         "0",
         "0",
         "0",
         "0",
         "0",
         "0",
         "0",
         "0",
         "0",
         "0",
         "0",
         "0",
         "0",
         "0",
         "0",
         "0",
         "0",
         "0",
         "0",
         "0",
         "0",
         "0",
         "0",
         "0",
         "0",
         "0",
         "0",
         "0",
         "0",
         "0",
         "0",
         "0",
         "0",
         "0",
         "0",
         "0",
         "0",
         "0",
         "0",
         "0",
         "48",
         "53",
         "95",
         "99",
         "36",
         "25",
         "120",
         "168",
         "48",
         "57",
         "0",
         "0",
         "0",
         "0"
        ],
        [
         "4",
         "5",
         "Antilhas Holandesas",
         "0",
         "0",
         "0",
         "0",
         "1125",
         "945",
         "144",
         "135",
         "0",
         "0",
         "0",
         "0",
         "0",
         "0",
         "0",
         "0",
         "0",
         "0",
         "3000",
         "739",
         "0",
         "0",
         "0",
         "0",
         "0",
         "0",
         "0",
         "0",
         "0",
         "0",
         "0",
         "0",
         "0",
         "0",
         "0",
         "0",
         "0",
         "0",
         "0",
         "0",
         "0",
         "0",
         "0",
         "0",
         "420",
         "641",
         "0",
         "0",
         "0",
         "0",
         "0",
         "0",
         "0",
         "0",
         "0",
         "0",
         "0",
         "0",
         "0",
         "0",
         "0",
         "0",
         "0",
         "0",
         "0",
         "0",
         "0",
         "0",
         "98",
         "274",
         "6648",
         "3364",
         "0",
         "0",
         "0",
         "0",
         "474",
         "720",
         "0",
         "0",
         "0",
         "0",
         "0",
         "0",
         "0",
         "0",
         "0",
         "0",
         "0",
         "0",
         "0",
         "0",
         "0",
         "0",
         "0",
         "0",
         "0",
         "0",
         "0",
         "0",
         "0",
         "0",
         "0",
         "0",
         "0",
         "0",
         "0",
         "0",
         "0",
         "0"
        ]
       ],
       "shape": {
        "columns": 112,
        "rows": 5
       }
      },
      "text/html": [
       "<div>\n",
       "<style scoped>\n",
       "    .dataframe tbody tr th:only-of-type {\n",
       "        vertical-align: middle;\n",
       "    }\n",
       "\n",
       "    .dataframe tbody tr th {\n",
       "        vertical-align: top;\n",
       "    }\n",
       "\n",
       "    .dataframe thead th {\n",
       "        text-align: right;\n",
       "    }\n",
       "</style>\n",
       "<table border=\"1\" class=\"dataframe\">\n",
       "  <thead>\n",
       "    <tr style=\"text-align: right;\">\n",
       "      <th></th>\n",
       "      <th>id</th>\n",
       "      <th>país</th>\n",
       "      <th>1970</th>\n",
       "      <th>1970.1</th>\n",
       "      <th>1971</th>\n",
       "      <th>1971.1</th>\n",
       "      <th>1972</th>\n",
       "      <th>1972.1</th>\n",
       "      <th>1973</th>\n",
       "      <th>1973.1</th>\n",
       "      <th>...</th>\n",
       "      <th>2020</th>\n",
       "      <th>2020.1</th>\n",
       "      <th>2021</th>\n",
       "      <th>2021.1</th>\n",
       "      <th>2022</th>\n",
       "      <th>2022.1</th>\n",
       "      <th>2023</th>\n",
       "      <th>2023.1</th>\n",
       "      <th>2024</th>\n",
       "      <th>2024.1</th>\n",
       "    </tr>\n",
       "  </thead>\n",
       "  <tbody>\n",
       "    <tr>\n",
       "      <th>0</th>\n",
       "      <td>1</td>\n",
       "      <td>África do Sul</td>\n",
       "      <td>0</td>\n",
       "      <td>0</td>\n",
       "      <td>0</td>\n",
       "      <td>0</td>\n",
       "      <td>0</td>\n",
       "      <td>0</td>\n",
       "      <td>0</td>\n",
       "      <td>0</td>\n",
       "      <td>...</td>\n",
       "      <td>0</td>\n",
       "      <td>0</td>\n",
       "      <td>0</td>\n",
       "      <td>0</td>\n",
       "      <td>34344</td>\n",
       "      <td>49753</td>\n",
       "      <td>0</td>\n",
       "      <td>0</td>\n",
       "      <td>0</td>\n",
       "      <td>0</td>\n",
       "    </tr>\n",
       "    <tr>\n",
       "      <th>1</th>\n",
       "      <td>2</td>\n",
       "      <td>Alemanha, República Democrática da</td>\n",
       "      <td>0</td>\n",
       "      <td>0</td>\n",
       "      <td>0</td>\n",
       "      <td>0</td>\n",
       "      <td>9962</td>\n",
       "      <td>6514</td>\n",
       "      <td>238418</td>\n",
       "      <td>160979</td>\n",
       "      <td>...</td>\n",
       "      <td>86</td>\n",
       "      <td>44</td>\n",
       "      <td>13</td>\n",
       "      <td>4</td>\n",
       "      <td>5</td>\n",
       "      <td>24</td>\n",
       "      <td>33</td>\n",
       "      <td>39</td>\n",
       "      <td>6</td>\n",
       "      <td>17</td>\n",
       "    </tr>\n",
       "    <tr>\n",
       "      <th>2</th>\n",
       "      <td>3</td>\n",
       "      <td>Angola</td>\n",
       "      <td>0</td>\n",
       "      <td>0</td>\n",
       "      <td>0</td>\n",
       "      <td>0</td>\n",
       "      <td>0</td>\n",
       "      <td>0</td>\n",
       "      <td>0</td>\n",
       "      <td>0</td>\n",
       "      <td>...</td>\n",
       "      <td>17766</td>\n",
       "      <td>21627</td>\n",
       "      <td>6073</td>\n",
       "      <td>5915</td>\n",
       "      <td>86536</td>\n",
       "      <td>91839</td>\n",
       "      <td>55683</td>\n",
       "      <td>68724</td>\n",
       "      <td>4974</td>\n",
       "      <td>9112</td>\n",
       "    </tr>\n",
       "    <tr>\n",
       "      <th>3</th>\n",
       "      <td>4</td>\n",
       "      <td>Antígua e Barbuda</td>\n",
       "      <td>0</td>\n",
       "      <td>0</td>\n",
       "      <td>0</td>\n",
       "      <td>0</td>\n",
       "      <td>0</td>\n",
       "      <td>0</td>\n",
       "      <td>0</td>\n",
       "      <td>0</td>\n",
       "      <td>...</td>\n",
       "      <td>36</td>\n",
       "      <td>25</td>\n",
       "      <td>120</td>\n",
       "      <td>168</td>\n",
       "      <td>48</td>\n",
       "      <td>57</td>\n",
       "      <td>0</td>\n",
       "      <td>0</td>\n",
       "      <td>0</td>\n",
       "      <td>0</td>\n",
       "    </tr>\n",
       "    <tr>\n",
       "      <th>4</th>\n",
       "      <td>5</td>\n",
       "      <td>Antilhas Holandesas</td>\n",
       "      <td>0</td>\n",
       "      <td>0</td>\n",
       "      <td>0</td>\n",
       "      <td>0</td>\n",
       "      <td>1125</td>\n",
       "      <td>945</td>\n",
       "      <td>144</td>\n",
       "      <td>135</td>\n",
       "      <td>...</td>\n",
       "      <td>0</td>\n",
       "      <td>0</td>\n",
       "      <td>0</td>\n",
       "      <td>0</td>\n",
       "      <td>0</td>\n",
       "      <td>0</td>\n",
       "      <td>0</td>\n",
       "      <td>0</td>\n",
       "      <td>0</td>\n",
       "      <td>0</td>\n",
       "    </tr>\n",
       "  </tbody>\n",
       "</table>\n",
       "<p>5 rows × 112 columns</p>\n",
       "</div>"
      ],
      "text/plain": [
       "   id                                país  1970  1970.1  1971  1971.1  1972  \\\n",
       "0   1                       África do Sul     0       0     0       0     0   \n",
       "1   2  Alemanha, República Democrática da     0       0     0       0  9962   \n",
       "2   3                              Angola     0       0     0       0     0   \n",
       "3   4                   Antígua e Barbuda     0       0     0       0     0   \n",
       "4   5                 Antilhas Holandesas     0       0     0       0  1125   \n",
       "\n",
       "   1972.1    1973  1973.1  ...   2020  2020.1  2021  2021.1   2022  2022.1  \\\n",
       "0       0       0       0  ...      0       0     0       0  34344   49753   \n",
       "1    6514  238418  160979  ...     86      44    13       4      5      24   \n",
       "2       0       0       0  ...  17766   21627  6073    5915  86536   91839   \n",
       "3       0       0       0  ...     36      25   120     168     48      57   \n",
       "4     945     144     135  ...      0       0     0       0      0       0   \n",
       "\n",
       "    2023  2023.1  2024  2024.1  \n",
       "0      0       0     0       0  \n",
       "1     33      39     6      17  \n",
       "2  55683   68724  4974    9112  \n",
       "3      0       0     0       0  \n",
       "4      0       0     0       0  \n",
       "\n",
       "[5 rows x 112 columns]"
      ]
     },
     "execution_count": 44,
     "metadata": {},
     "output_type": "execute_result"
    }
   ],
   "source": [
    "df.head(5)"
   ]
  },
  {
   "cell_type": "code",
   "execution_count": 45,
   "id": "f02e7bc0",
   "metadata": {},
   "outputs": [],
   "source": [
    "def agrupar_colunas_por_ano(df):\n",
    "    # Identificar colunas numéricas (anos)\n",
    "    colunas_anos = {}\n",
    "    \n",
    "    # Agrupar colunas pelo ano base\n",
    "    for col in df.columns:\n",
    "        # Verificar se a coluna começa com um número (potencialmente um ano)\n",
    "        if isinstance(col, str) and col.split('.')[0].isdigit():\n",
    "            ano_base = col.split('.')[0]  # Pega a parte antes do ponto\n",
    "            if ano_base not in colunas_anos:\n",
    "                colunas_anos[ano_base] = []\n",
    "            colunas_anos[ano_base].append(col)\n",
    "        elif isinstance(col, (int, float)) or (isinstance(col, str) and col.isdigit()):\n",
    "            # Caso a coluna seja diretamente um número ou string numérica\n",
    "            ano_base = str(int(float(col)))\n",
    "            if ano_base not in colunas_anos:\n",
    "                colunas_anos[ano_base] = []\n",
    "            colunas_anos[ano_base].append(col)\n",
    "    \n",
    "    # Criar um novo DataFrame com as colunas não-numéricas\n",
    "    colunas_nao_numericas = [col for col in df.columns if col not in [c for sublist in colunas_anos.values() for c in sublist]]\n",
    "    df_novo = df[colunas_nao_numericas].copy()\n",
    "    \n",
    "    # Adicionar as colunas de anos somadas\n",
    "    for ano, colunas in colunas_anos.items():\n",
    "        # Converter todas as colunas para numérico, tratando valores não numéricos\n",
    "        for col in colunas:\n",
    "            if df[col].dtype == 'object':\n",
    "                df[col] = pd.to_numeric(df[col].astype(str).str.replace(',', '.'), errors='coerce').fillna(0)\n",
    "        \n",
    "        # Somar as colunas do mesmo ano\n",
    "        df_novo[ano] = df[colunas].sum(axis=1)\n",
    "    \n",
    "    return df_novo"
   ]
  },
  {
   "cell_type": "code",
   "execution_count": 46,
   "id": "0b52a866",
   "metadata": {},
   "outputs": [],
   "source": [
    "df_agrupado = agrupar_colunas_por_ano(df)"
   ]
  },
  {
   "cell_type": "code",
   "execution_count": 47,
   "id": "7213bcfe",
   "metadata": {},
   "outputs": [
    {
     "data": {
      "text/plain": [
       "Index(['id', 'país', '1970', '1971', '1972', '1973', '1974', '1975', '1976',\n",
       "       '1977', '1978', '1979', '1980', '1981', '1982', '1983', '1984', '1985',\n",
       "       '1986', '1987', '1988', '1989', '1990', '1991', '1992', '1993', '1994',\n",
       "       '1995', '1996', '1997', '1998', '1999', '2000', '2001', '2002', '2003',\n",
       "       '2004', '2005', '2006', '2007', '2008', '2009', '2010', '2011', '2012',\n",
       "       '2013', '2014', '2015', '2016', '2017', '2018', '2019', '2020', '2021',\n",
       "       '2022', '2023', '2024'],\n",
       "      dtype='object')"
      ]
     },
     "execution_count": 47,
     "metadata": {},
     "output_type": "execute_result"
    }
   ],
   "source": [
    "df_agrupado.columns"
   ]
  },
  {
   "cell_type": "code",
   "execution_count": 48,
   "id": "e2fee035",
   "metadata": {},
   "outputs": [],
   "source": [
    "df_pivoted = df_agrupado.melt(id_vars=[col for col in df_agrupado.columns if not col.isdigit()], \n",
    "            var_name='ano', \n",
    "            value_name='quantidade'\n",
    "        ).reset_index(drop=False)\n",
    "df_pivoted.drop(columns=['id'], inplace=True)"
   ]
  },
  {
   "cell_type": "code",
   "execution_count": 49,
   "id": "ab52abec",
   "metadata": {},
   "outputs": [
    {
     "data": {
      "application/vnd.microsoft.datawrangler.viewer.v0+json": {
       "columns": [
        {
         "name": "index",
         "rawType": "int64",
         "type": "integer"
        },
        {
         "name": "index",
         "rawType": "int64",
         "type": "integer"
        },
        {
         "name": "país",
         "rawType": "object",
         "type": "string"
        },
        {
         "name": "ano",
         "rawType": "object",
         "type": "string"
        },
        {
         "name": "quantidade",
         "rawType": "int64",
         "type": "integer"
        }
       ],
       "conversionMethod": "pd.DataFrame",
       "ref": "b618fd58-58e8-4708-b8d6-0cc0513da6e4",
       "rows": [
        [
         "0",
         "0",
         "África do Sul",
         "1970",
         "0"
        ],
        [
         "1",
         "1",
         "Alemanha, República Democrática da",
         "1970",
         "0"
        ],
        [
         "2",
         "2",
         "Angola",
         "1970",
         "0"
        ],
        [
         "3",
         "3",
         "Antígua e Barbuda",
         "1970",
         "0"
        ],
        [
         "4",
         "4",
         "Antilhas Holandesas",
         "1970",
         "0"
        ],
        [
         "5",
         "5",
         "Arábia Saudita",
         "1970",
         "0"
        ],
        [
         "6",
         "6",
         "Argélia",
         "1970",
         "0"
        ],
        [
         "7",
         "7",
         "Argentina",
         "1970",
         "0"
        ],
        [
         "8",
         "8",
         "Aruba",
         "1970",
         "0"
        ],
        [
         "9",
         "9",
         "Austrália",
         "1970",
         "0"
        ],
        [
         "10",
         "10",
         "Áustria",
         "1970",
         "0"
        ],
        [
         "11",
         "11",
         "Bahamas",
         "1970",
         "0"
        ],
        [
         "12",
         "12",
         "Bangladesh",
         "1970",
         "0"
        ],
        [
         "13",
         "13",
         "Barbados",
         "1970",
         "0"
        ],
        [
         "14",
         "14",
         "Barein",
         "1970",
         "0"
        ],
        [
         "15",
         "15",
         "Bélgica",
         "1970",
         "0"
        ],
        [
         "16",
         "16",
         "Belize",
         "1970",
         "0"
        ],
        [
         "17",
         "17",
         "Benin",
         "1970",
         "0"
        ],
        [
         "18",
         "18",
         "Bermudas",
         "1970",
         "0"
        ],
        [
         "19",
         "19",
         "Birmânia",
         "1970",
         "0"
        ],
        [
         "20",
         "20",
         "Bolívia",
         "1970",
         "0"
        ],
        [
         "21",
         "21",
         "Brasil",
         "1970",
         "0"
        ],
        [
         "22",
         "22",
         "Bulgária",
         "1970",
         "0"
        ],
        [
         "23",
         "23",
         "Cabo Verde",
         "1970",
         "0"
        ],
        [
         "24",
         "24",
         "Camarões",
         "1970",
         "0"
        ],
        [
         "25",
         "25",
         "Canadá",
         "1970",
         "0"
        ],
        [
         "26",
         "26",
         "Catar",
         "1970",
         "0"
        ],
        [
         "27",
         "27",
         "Cayman, Ilhas",
         "1970",
         "0"
        ],
        [
         "28",
         "28",
         "Chile",
         "1970",
         "0"
        ],
        [
         "29",
         "29",
         "China",
         "1970",
         "0"
        ],
        [
         "30",
         "30",
         "Chipre",
         "1970",
         "0"
        ],
        [
         "31",
         "31",
         "Cingapura",
         "1970",
         "0"
        ],
        [
         "32",
         "32",
         "Colômbia",
         "1970",
         "0"
        ],
        [
         "33",
         "33",
         "Congo",
         "1970",
         "0"
        ],
        [
         "34",
         "34",
         "Coreia do Sul",
         "1970",
         "0"
        ],
        [
         "35",
         "35",
         "Costa do Marfim",
         "1970",
         "0"
        ],
        [
         "36",
         "36",
         "Costa Rica",
         "1970",
         "0"
        ],
        [
         "37",
         "37",
         "Coveite",
         "1970",
         "0"
        ],
        [
         "38",
         "38",
         "Cuba",
         "1970",
         "0"
        ],
        [
         "39",
         "39",
         "Curaçao",
         "1970",
         "0"
        ],
        [
         "40",
         "40",
         "Dinamarca",
         "1970",
         "0"
        ],
        [
         "41",
         "41",
         "Dominica, Ilha de",
         "1970",
         "0"
        ],
        [
         "42",
         "42",
         "El Salvador",
         "1970",
         "0"
        ],
        [
         "43",
         "43",
         "Emirados Árabes Unidos",
         "1970",
         "0"
        ],
        [
         "44",
         "44",
         "Equador",
         "1970",
         "0"
        ],
        [
         "45",
         "45",
         "Espanha",
         "1970",
         "0"
        ],
        [
         "46",
         "46",
         "Estados Unidos",
         "1970",
         "0"
        ],
        [
         "47",
         "47",
         "Falkland (Malvinas)",
         "1970",
         "0"
        ],
        [
         "48",
         "48",
         "Filipinas",
         "1970",
         "0"
        ],
        [
         "49",
         "49",
         "Finlândia",
         "1970",
         "0"
        ]
       ],
       "shape": {
        "columns": 4,
        "rows": 6875
       }
      },
      "text/html": [
       "<div>\n",
       "<style scoped>\n",
       "    .dataframe tbody tr th:only-of-type {\n",
       "        vertical-align: middle;\n",
       "    }\n",
       "\n",
       "    .dataframe tbody tr th {\n",
       "        vertical-align: top;\n",
       "    }\n",
       "\n",
       "    .dataframe thead th {\n",
       "        text-align: right;\n",
       "    }\n",
       "</style>\n",
       "<table border=\"1\" class=\"dataframe\">\n",
       "  <thead>\n",
       "    <tr style=\"text-align: right;\">\n",
       "      <th></th>\n",
       "      <th>index</th>\n",
       "      <th>país</th>\n",
       "      <th>ano</th>\n",
       "      <th>quantidade</th>\n",
       "    </tr>\n",
       "  </thead>\n",
       "  <tbody>\n",
       "    <tr>\n",
       "      <th>0</th>\n",
       "      <td>0</td>\n",
       "      <td>África do Sul</td>\n",
       "      <td>1970</td>\n",
       "      <td>0</td>\n",
       "    </tr>\n",
       "    <tr>\n",
       "      <th>1</th>\n",
       "      <td>1</td>\n",
       "      <td>Alemanha, República Democrática da</td>\n",
       "      <td>1970</td>\n",
       "      <td>0</td>\n",
       "    </tr>\n",
       "    <tr>\n",
       "      <th>2</th>\n",
       "      <td>2</td>\n",
       "      <td>Angola</td>\n",
       "      <td>1970</td>\n",
       "      <td>0</td>\n",
       "    </tr>\n",
       "    <tr>\n",
       "      <th>3</th>\n",
       "      <td>3</td>\n",
       "      <td>Antígua e Barbuda</td>\n",
       "      <td>1970</td>\n",
       "      <td>0</td>\n",
       "    </tr>\n",
       "    <tr>\n",
       "      <th>4</th>\n",
       "      <td>4</td>\n",
       "      <td>Antilhas Holandesas</td>\n",
       "      <td>1970</td>\n",
       "      <td>0</td>\n",
       "    </tr>\n",
       "    <tr>\n",
       "      <th>...</th>\n",
       "      <td>...</td>\n",
       "      <td>...</td>\n",
       "      <td>...</td>\n",
       "      <td>...</td>\n",
       "    </tr>\n",
       "    <tr>\n",
       "      <th>6870</th>\n",
       "      <td>6870</td>\n",
       "      <td>Trinidade e Tobago</td>\n",
       "      <td>2024</td>\n",
       "      <td>0</td>\n",
       "    </tr>\n",
       "    <tr>\n",
       "      <th>6871</th>\n",
       "      <td>6871</td>\n",
       "      <td>Turquia</td>\n",
       "      <td>2024</td>\n",
       "      <td>835</td>\n",
       "    </tr>\n",
       "    <tr>\n",
       "      <th>6872</th>\n",
       "      <td>6872</td>\n",
       "      <td>Uruguai</td>\n",
       "      <td>2024</td>\n",
       "      <td>0</td>\n",
       "    </tr>\n",
       "    <tr>\n",
       "      <th>6873</th>\n",
       "      <td>6873</td>\n",
       "      <td>Vanuatu</td>\n",
       "      <td>2024</td>\n",
       "      <td>0</td>\n",
       "    </tr>\n",
       "    <tr>\n",
       "      <th>6874</th>\n",
       "      <td>6874</td>\n",
       "      <td>Venezuela</td>\n",
       "      <td>2024</td>\n",
       "      <td>56186</td>\n",
       "    </tr>\n",
       "  </tbody>\n",
       "</table>\n",
       "<p>6875 rows × 4 columns</p>\n",
       "</div>"
      ],
      "text/plain": [
       "      index                                país   ano  quantidade\n",
       "0         0                       África do Sul  1970           0\n",
       "1         1  Alemanha, República Democrática da  1970           0\n",
       "2         2                              Angola  1970           0\n",
       "3         3                   Antígua e Barbuda  1970           0\n",
       "4         4                 Antilhas Holandesas  1970           0\n",
       "...     ...                                 ...   ...         ...\n",
       "6870   6870                  Trinidade e Tobago  2024           0\n",
       "6871   6871                             Turquia  2024         835\n",
       "6872   6872                             Uruguai  2024           0\n",
       "6873   6873                             Vanuatu  2024           0\n",
       "6874   6874                           Venezuela  2024       56186\n",
       "\n",
       "[6875 rows x 4 columns]"
      ]
     },
     "execution_count": 49,
     "metadata": {},
     "output_type": "execute_result"
    }
   ],
   "source": [
    "df_pivoted"
   ]
  }
 ],
 "metadata": {
  "kernelspec": {
   "display_name": ".env",
   "language": "python",
   "name": "python3"
  },
  "language_info": {
   "codemirror_mode": {
    "name": "ipython",
    "version": 3
   },
   "file_extension": ".py",
   "mimetype": "text/x-python",
   "name": "python",
   "nbconvert_exporter": "python",
   "pygments_lexer": "ipython3",
   "version": "3.11.9"
  }
 },
 "nbformat": 4,
 "nbformat_minor": 5
}
