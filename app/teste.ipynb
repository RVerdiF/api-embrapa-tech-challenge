{
 "cells": [
  {
   "cell_type": "code",
   "execution_count": null,
   "id": "090cdfb2",
   "metadata": {},
   "outputs": [],
   "source": [
    "import requests\n",
    "import pandas as pd\n",
    "from io import StringIO\n",
    "import time\n",
    "def criar_dicionario(df):\n",
    "    \"\"\"\n",
    "    Cria um dicionário de categorias com base na coluna 'control'.\n",
    "\n",
    "    Args:\n",
    "        df (pd.DataFrame): O DataFrame contendo os dados.\n",
    "\n",
    "    Returns:\n",
    "        dict: Um dicionário onde as chaves são os prefixos (antes do '_')\n",
    "              e os valores são as categorias correspondentes.\n",
    "    \"\"\"\n",
    "    categoria_dict = {}\n",
    "    categoria_atual = None\n",
    "\n",
    "    for index, row in df.iterrows():\n",
    "        control = row['control']\n",
    "        if \"_\" not in control:\n",
    "            categoria_atual = row['produto']  # Encontrou uma nova categoria\n",
    "        else:\n",
    "            prefixo = control.split(\"_\")[0].lower()\n",
    "            categoria_dict[prefixo] = categoria_atual\n",
    "\n",
    "    return categoria_dict\n",
    "\n",
    "# Criar o dicionário de categorias\n",
    "\n",
    "\n",
    "def extrair_categorias_hierarquicas(df, categoria_dict):\n",
    "    \"\"\"\n",
    "    Extrai as categorias e subcategorias do DataFrame, utilizando um dicionário de categorias.\n",
    "\n",
    "    Args:\n",
    "        df (pd.DataFrame): O DataFrame contendo os dados.\n",
    "        categoria_dict (dict): Um dicionário mapeando prefixos de subcategorias para categorias.\n",
    "\n",
    "    Returns:\n",
    "        pd.DataFrame: O DataFrame com as colunas 'Categoria' e 'Subcategoria' adicionadas.\n",
    "    \"\"\"\n",
    "    categorias = []\n",
    "    subcategorias = []\n",
    "    categoria_atual = None\n",
    "\n",
    "    for index, row in df.iterrows():\n",
    "        control = row['control']\n",
    "        produto = row['produto']\n",
    "\n",
    "        if \"_\" not in control:\n",
    "            categoria_atual = produto\n",
    "            categoria = categoria_atual\n",
    "            subcategoria = produto\n",
    "        else:\n",
    "            prefixo = control.split(\"_\")[0].lower()\n",
    "            categoria = categoria_dict.get(prefixo, \"Outros\")\n",
    "            subcategoria = produto\n",
    "\n",
    "        categorias.append(categoria)\n",
    "        subcategorias.append(subcategoria)\n",
    "\n",
    "    # df['Categoria'] = categorias\n",
    "    # df['Subcategoria'] = subcategorias\n",
    "    return categorias, subcategorias\n"
   ]
  },
  {
   "cell_type": "code",
   "execution_count": null,
   "id": "520c29f6",
   "metadata": {},
   "outputs": [],
   "source": [
    "def _filter_comercializacao(df:pd.DataFrame) -> pd.DataFrame:\n",
    "    df = df.rename(columns={'cultivar': 'produto'})\n",
    "    df['control'] = df['control'].fillna(df['produto'])\n",
    "    for col in df.columns:\n",
    "        if col.isdigit():\n",
    "            df[col] = df[col].astype(str).replace('*','0').replace('nd','0').fillna('0').str.replace(',','.').astype(float)\n",
    "    return df\n",
    "\n",
    "def _filter_processamento(df:pd.DataFrame) -> pd.DataFrame:\n",
    "    df = df.rename(columns={'cultivar': 'produto'})\n",
    "    df['control'] = df['control'].fillna(df['produto'])\n",
    "    for col in df.columns:\n",
    "        if col.isdigit():\n",
    "            df[col] = df[col].astype(str).replace('*','0').replace('nd','0').str.replace('+','0').fillna('0').str.replace(',','.').astype(float)\n",
    "    return df"
   ]
  },
  {
   "cell_type": "code",
   "execution_count": null,
   "id": "b1b0650b",
   "metadata": {},
   "outputs": [],
   "source": [
    "import requests\n",
    "from requests.adapters import HTTPAdapter\n",
    "from urllib3.util.retry import Retry\n",
    "import pandas as pd\n",
    "from io import BytesIO\n",
    "import io\n",
    "\n",
    "url1 = 'http://vitibrasil.cnpuv.embrapa.br/'  # Substitua pela URL real do arquivo CSV\n",
    "url2 = 'http://vitibrasil.cnpuv.embrapa.br/download/ImpVinhos.csv'  # Substitua pela URL real do arquivo CSV\n",
    "\n",
    "try:\n",
    "    session = requests.Session()\n",
    "    retry_strategy = Retry(connect=3, backoff_factor=0.5)\n",
    "    adapter = HTTPAdapter(max_retries=retry_strategy)\n",
    "    session.mount(\"http://\", adapter)\n",
    "    session.mount(\"https://\", adapter)\n",
    "    response = session.get(url1, timeout=10, verify=False)\n",
    "    response.raise_for_status()\n",
    "    response = session.get(url2, timeout=10, verify=False)\n",
    "    bio = BytesIO(response.content)\n",
    "    wrapper = io.TextIOWrapper(bio, encoding='utf-8')\n",
    "    df = pd.read_csv(wrapper, sep=None, engine='python', encoding='utf-8')\n",
    "    df.columns = df.columns.str.lower()\n",
    "    # if 'comercio' in url2.lower():\n",
    "    #     df = _filter_comercializacao(df)\n",
    "    # if 'processa' in url2.lower():\n",
    "    #     df = _filter_processamento(df)\n",
    "    # if not df.empty:\n",
    "    #     categoria_dict = criar_dicionario(df)\n",
    "    #     categorias, subcategorias = extrair_categorias_hierarquicas(df,categoria_dict)\n",
    "    #     df['categoria'] = categorias\n",
    "    #     df['produto'] = subcategorias\n",
    "    #     df = df[df['categoria'] != df['produto']]\n",
    "    #     df = df.drop(columns=['id', 'control',])\n",
    "    session.close()\n",
    "except requests.exceptions.RequestException as e:\n",
    "    print(f'Ocorreu um erro durante a requisição: {e}')\n",
    "except Exception as e:\n",
    "    print(f'Ocorreu um erro inesperado: {e}')\n"
   ]
  },
  {
   "cell_type": "code",
   "execution_count": null,
   "id": "da76e346",
   "metadata": {},
   "outputs": [],
   "source": [
    "df.shape"
   ]
  },
  {
   "cell_type": "code",
   "execution_count": null,
   "id": "f70fd68f",
   "metadata": {},
   "outputs": [],
   "source": [
    "df"
   ]
  },
  {
   "cell_type": "code",
   "execution_count": null,
   "id": "f02e7bc0",
   "metadata": {},
   "outputs": [],
   "source": [
    "def agrupar_colunas_por_ano(df):\n",
    "    # Identificar colunas numéricas (anos)\n",
    "    colunas_anos = {}\n",
    "    \n",
    "    # Agrupar colunas pelo ano base\n",
    "    for col in df.columns:\n",
    "        # Verificar se a coluna começa com um número (potencialmente um ano)\n",
    "        if isinstance(col, str) and col.split('.')[0].isdigit():\n",
    "            ano_base = col.split('.')[0]  # Pega a parte antes do ponto\n",
    "            if ano_base not in colunas_anos:\n",
    "                colunas_anos[ano_base] = []\n",
    "            colunas_anos[ano_base].append(col)\n",
    "        elif isinstance(col, (int, float)) or (isinstance(col, str) and col.isdigit()):\n",
    "            # Caso a coluna seja diretamente um número ou string numérica\n",
    "            ano_base = str(int(float(col)))\n",
    "            if ano_base not in colunas_anos:\n",
    "                colunas_anos[ano_base] = []\n",
    "            colunas_anos[ano_base].append(col)\n",
    "    \n",
    "    # Criar um novo DataFrame com as colunas não-numéricas\n",
    "    colunas_nao_numericas = [col for col in df.columns if col not in [c for sublist in colunas_anos.values() for c in sublist]]\n",
    "    df_novo = df[colunas_nao_numericas].copy()\n",
    "    \n",
    "    # Adicionar as colunas de anos somadas\n",
    "    for ano, colunas in colunas_anos.items():\n",
    "        # Converter todas as colunas para numérico, tratando valores não numéricos\n",
    "        for col in colunas:\n",
    "            if df[col].dtype == 'object':\n",
    "                df[col] = pd.to_numeric(df[col].astype(str).str.replace(',', '.'), errors='coerce').fillna(0)\n",
    "        \n",
    "        # Somar as colunas do mesmo ano\n",
    "        df_novo[ano] = df[colunas].sum(axis=1)\n",
    "    \n",
    "    return df_novo"
   ]
  },
  {
   "cell_type": "code",
   "execution_count": null,
   "id": "0b52a866",
   "metadata": {},
   "outputs": [],
   "source": [
    "df_agrupado = agrupar_colunas_por_ano(df)"
   ]
  },
  {
   "cell_type": "code",
   "execution_count": null,
   "id": "7213bcfe",
   "metadata": {},
   "outputs": [],
   "source": [
    "df_agrupado.columns"
   ]
  },
  {
   "cell_type": "code",
   "execution_count": null,
   "id": "e2fee035",
   "metadata": {},
   "outputs": [],
   "source": [
    "df_pivoted = df_agrupado.melt(id_vars=[col for col in df_agrupado.columns if not col.isdigit()], \n",
    "            var_name='ano', \n",
    "            value_name='quantidade'\n",
    "        ).reset_index(drop=False)\n",
    "df_pivoted.drop(columns=['id'], inplace=True)"
   ]
  },
  {
   "cell_type": "code",
   "execution_count": null,
   "id": "ab52abec",
   "metadata": {},
   "outputs": [],
   "source": [
    "df_pivoted"
   ]
  },
  {
   "cell_type": "code",
   "execution_count": null,
   "id": "9f3656be",
   "metadata": {},
   "outputs": [],
   "source": [
    "import requests\n",
    "from requests.adapters import HTTPAdapter\n",
    "from urllib3.util.retry import Retry\n",
    "import pandas as pd\n",
    "from io import BytesIO, StringIO\n",
    "import io\n"
   ]
  },
  {
   "cell_type": "code",
   "execution_count": null,
   "id": "cbc19253",
   "metadata": {},
   "outputs": [],
   "source": [
    "response = requests.get('http://localhost:8000/producao')"
   ]
  },
  {
   "cell_type": "code",
   "execution_count": null,
   "id": "25c32b8c",
   "metadata": {},
   "outputs": [],
   "source": [
    "response.json()"
   ]
  },
  {
   "cell_type": "code",
   "execution_count": null,
   "id": "3a68cbff",
   "metadata": {},
   "outputs": [],
   "source": [
    "df = pd.read_json(StringIO(response.json()['data']))\n",
    "df"
   ]
  }
 ],
 "metadata": {
  "kernelspec": {
   "display_name": ".env",
   "language": "python",
   "name": "python3"
  },
  "language_info": {
   "codemirror_mode": {
    "name": "ipython",
    "version": 3
   },
   "file_extension": ".py",
   "mimetype": "text/x-python",
   "name": "python",
   "nbconvert_exporter": "python",
   "pygments_lexer": "ipython3",
   "version": "3.11.9"
  }
 },
 "nbformat": 4,
 "nbformat_minor": 5
}
